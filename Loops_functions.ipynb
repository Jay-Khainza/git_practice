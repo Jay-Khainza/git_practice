{
  "nbformat": 4,
  "nbformat_minor": 0,
  "metadata": {
    "colab": {
      "provenance": []
    },
    "kernelspec": {
      "name": "python3",
      "display_name": "Python 3"
    },
    "language_info": {
      "name": "python"
    }
  },
  "cells": [
    {
      "cell_type": "code",
      "execution_count": 9,
      "metadata": {
        "id": "JXtk5z2OnBRv"
      },
      "outputs": [],
      "source": [
        "import random"
      ]
    },
    {
      "cell_type": "code",
      "source": [
        "names = []\n",
        "\n",
        "\n",
        "#student_1....student_50\n",
        "\n",
        "for i in range (1, 51):\n",
        "  names.append('student_'+ str(i))\n",
        "\n",
        "print(names)"
      ],
      "metadata": {
        "colab": {
          "base_uri": "https://localhost:8080/"
        },
        "id": "nAyTzZoqoxM6",
        "outputId": "69dc0538-1439-44b4-bded-7b6a530be1f1"
      },
      "execution_count": 6,
      "outputs": [
        {
          "output_type": "stream",
          "name": "stdout",
          "text": [
            "['student_1', 'student_2', 'student_3', 'student_4', 'student_5', 'student_6', 'student_7', 'student_8', 'student_9', 'student_10', 'student_11', 'student_12', 'student_13', 'student_14', 'student_15', 'student_16', 'student_17', 'student_18', 'student_19', 'student_20', 'student_21', 'student_22', 'student_23', 'student_24', 'student_25', 'student_26', 'student_27', 'student_28', 'student_29', 'student_30', 'student_31', 'student_32', 'student_33', 'student_34', 'student_35', 'student_36', 'student_37', 'student_38', 'student_39', 'student_40', 'student_41', 'student_42', 'student_43', 'student_44', 'student_45', 'student_46', 'student_47', 'student_48', 'student_49', 'student_50']\n"
          ]
        }
      ]
    },
    {
      "cell_type": "code",
      "source": [
        "random.seed(3)\n",
        "birth_year = []\n",
        "\n",
        "for i in range(50):\n",
        "  birth_year.append(random.randint(1988,2002))\n",
        "\n",
        "print(birth_year) "
      ],
      "metadata": {
        "colab": {
          "base_uri": "https://localhost:8080/"
        },
        "id": "qU4Z6IF9rC-k",
        "outputId": "19795278-179f-450f-c7ae-943165e6b406"
      },
      "execution_count": 13,
      "outputs": [
        {
          "output_type": "stream",
          "name": "stdout",
          "text": [
            "[1991, 1997, 1996, 1990, 1993, 2002, 1997, 1995, 1998, 1997, 1989, 1997, 1988, 2002, 2001, 1995, 1992, 1996, 1991, 1991, 1999, 1995, 1996, 2001, 1996, 1995, 1994, 1998, 2001, 1990, 1991, 1998, 1990, 2001, 2002, 1996, 1994, 1999, 1988, 1998, 2000, 1989, 1990, 2000, 1997, 1988, 1992, 2000, 1988, 2001]\n"
          ]
        }
      ]
    },
    {
      "cell_type": "code",
      "source": [
        "b2 = []\n",
        "\n",
        "for i in range(50):\n",
        "  b2.append(random.randrange(1988,2002))\n",
        "\n",
        "print(b2)  "
      ],
      "metadata": {
        "colab": {
          "base_uri": "https://localhost:8080/"
        },
        "id": "aEDh7YrOt-9r",
        "outputId": "1d247290-4e4f-4e2f-d38c-6d0b5c34ebac"
      },
      "execution_count": 14,
      "outputs": [
        {
          "output_type": "stream",
          "name": "stdout",
          "text": [
            "[2001, 1992, 1995, 1997, 1999, 1994, 1999, 2000, 1994, 1994, 1999, 2000, 1997, 1995, 1990, 1993, 1989, 1988, 1990, 1995, 1991, 1992, 1998, 1994, 2000, 1998, 2001, 1992, 1994, 1996, 2001, 1994, 1997, 1993, 1996, 1997, 1994, 1997, 1991, 1993, 1998, 1988, 2001, 1992, 1997, 1998, 1999, 1990, 1999, 2001]\n"
          ]
        }
      ]
    },
    {
      "cell_type": "code",
      "source": [
        "student_attitude = []\n",
        "\n",
        "num = 0\n",
        "\n",
        "while num < 50:\n",
        "  student_attitude.append(random.choice(['Positive','Neutral','Negative']))\n",
        "  num +=1\n",
        "\n",
        "print(student_attitude)\n",
        "print(len(student_attitude))  \n",
        "\n"
      ],
      "metadata": {
        "colab": {
          "base_uri": "https://localhost:8080/"
        },
        "id": "j41nxFQnuiZW",
        "outputId": "daab0dbf-4e62-4dc6-b8a1-b2a89562d0b5"
      },
      "execution_count": 18,
      "outputs": [
        {
          "output_type": "stream",
          "name": "stdout",
          "text": [
            "['Negative', 'Positive', 'Negative', 'Neutral', 'Neutral', 'Negative', 'Positive', 'Positive', 'Positive', 'Positive', 'Neutral', 'Positive', 'Positive', 'Neutral', 'Neutral', 'Negative', 'Positive', 'Positive', 'Neutral', 'Neutral', 'Neutral', 'Neutral', 'Positive', 'Negative', 'Positive', 'Negative', 'Positive', 'Neutral', 'Negative', 'Neutral', 'Neutral', 'Neutral', 'Positive', 'Negative', 'Positive', 'Negative', 'Positive', 'Neutral', 'Neutral', 'Positive', 'Neutral', 'Positive', 'Positive', 'Neutral', 'Neutral', 'Positive', 'Negative', 'Neutral', 'Positive', 'Neutral']\n",
            "50\n"
          ]
        }
      ]
    },
    {
      "cell_type": "code",
      "source": [
        "student_score = []\n",
        "\n",
        "for i in range(50):\n",
        "  student_score.append(random.randint(0,101))\n",
        "\n",
        "print(student_score)\n"
      ],
      "metadata": {
        "colab": {
          "base_uri": "https://localhost:8080/"
        },
        "id": "jJXJ_s5pxhTe",
        "outputId": "f86d59d4-bb81-4cf6-edf7-8bb62fc48d85"
      },
      "execution_count": 20,
      "outputs": [
        {
          "output_type": "stream",
          "name": "stdout",
          "text": [
            "[39, 79, 40, 59, 100, 36, 97, 59, 36, 16, 93, 99, 21, 15, 14, 34, 38, 6, 72, 61, 40, 79, 84, 65, 79, 21, 11, 59, 9, 21, 28, 2, 84, 99, 63, 13, 32, 15, 39, 80, 96, 66, 51, 39, 21, 53, 6, 37, 75, 37]\n"
          ]
        }
      ]
    }
  ]
}